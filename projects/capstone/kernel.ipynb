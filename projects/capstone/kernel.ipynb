{
  "cells": [
    {
      "metadata": {
        "_uuid": "8f2839f25d086af736a60e9eeb907d3b93b6e0e5",
        "_cell_guid": "b1076dfc-b9ad-4769-8c92-a6c4dae69d19",
        "trusted": true
      },
      "cell_type": "code",
      "source": "# This Python 3 environment comes with many helpful analytics libraries installed\n# It is defined by the kaggle/python docker image: https://github.com/kaggle/docker-python\n# For example, here's several helpful packages to load in \n\nimport numpy as np # linear algebra\nimport pandas as pd # data processing, CSV file I/O (e.g. pd.read_csv)\n\n# Input data files are available in the \"../input/\" directory.\n# For example, running this (by clicking run or pressing Shift+Enter) will list the files in the input directory\n\nimport os\nprint(os.listdir(\"../input\"))\n\n# Any results you write to the current directory are saved as output.",
      "execution_count": null,
      "outputs": []
    },
    {
      "metadata": {
        "trusted": true,
        "_uuid": "775c6a94e46a65ff9cf94bb8df3b0c7af17f8687"
      },
      "cell_type": "code",
      "source": "import matplotlib.pyplot as plt\nimport seaborn as sns\nimport warnings\nwarnings.filterwarnings(\"ignore\")\n\ndataframe = pd.read_csv(\"../input/train/train.csv\")\npredTitle = \"AdoptionSpeed\"",
      "execution_count": null,
      "outputs": []
    },
    {
      "metadata": {
        "trusted": true,
        "_uuid": "a62aea797c345d2bb81784cd609085571c45a848"
      },
      "cell_type": "code",
      "source": "dataframe.info()",
      "execution_count": null,
      "outputs": []
    },
    {
      "metadata": {
        "trusted": true,
        "_uuid": "48f27ede9fcb6f2db740e135d6a1f9426a02f953",
        "scrolled": true
      },
      "cell_type": "code",
      "source": "print(\"Column names: \" + str(list(dataframe.columns)) + \"\\n\")\ndataframe.sample(10)\n# dataframe.isnull().values.any()\n",
      "execution_count": null,
      "outputs": []
    },
    {
      "metadata": {
        "trusted": true,
        "_uuid": "c12a6a002b1375f8da8d6b0126eae9e14819a705"
      },
      "cell_type": "code",
      "source": "dataframe[\"AdoptionSpeed\"].value_counts()",
      "execution_count": null,
      "outputs": []
    },
    {
      "metadata": {
        "trusted": true,
        "_uuid": "98d47b67fce278245f788b85d523f31b3c5e71df"
      },
      "cell_type": "code",
      "source": "y_vars = list(dataframe.select_dtypes(\"int64\").columns)\ndel y_vars[-1]\n\nprint(len(y_vars))\ndef plot_pdf(fig_size, x_var, y_vars, data, font_size = 30):\n    for i in range(fig_size[1]):\n        g = sns.FacetGrid(data, hue=\"AdoptionSpeed\", height=5) \\\n           .map(sns.distplot, y_vars[i], ) \\\n           .add_legend()\n        g.fig.suptitle(\"Distribution plot of \" + str(y_vars[i]), size = \"13\")\n    plt.show()\n\nplot_pdf((1, len(y_vars)), \"AdoptionSpeed\", y_vars, dataframe)",
      "execution_count": null,
      "outputs": []
    },
    {
      "metadata": {
        "trusted": true,
        "_uuid": "8a35cd536e5815f9fe92e227a9087c144b0f3915"
      },
      "cell_type": "code",
      "source": "# dataframe[\"MaturitySize\"].value_counts()",
      "execution_count": null,
      "outputs": []
    },
    {
      "metadata": {
        "trusted": true,
        "_uuid": "0b4e34c49ba3644f8191266236bc6a4c33064260"
      },
      "cell_type": "code",
      "source": "# sns.pairplot(dataframe, vars=y_vars[15:], hue = \"AdoptionSpeed\");",
      "execution_count": null,
      "outputs": []
    },
    {
      "metadata": {
        "trusted": true,
        "_uuid": "622ea477117709f7af671f59095c16ca90d727e8"
      },
      "cell_type": "code",
      "source": "import json\nfrom pprint import pprint\n\nwith open('../input/train_sentiment/00af25fc0.json') as f:\n    data = json.load(f)",
      "execution_count": null,
      "outputs": []
    },
    {
      "metadata": {
        "trusted": true,
        "_uuid": "a873ec15619b7ebda02bcbfbd29b0a4eb7875173"
      },
      "cell_type": "code",
      "source": "data",
      "execution_count": null,
      "outputs": []
    },
    {
      "metadata": {
        "trusted": true,
        "_uuid": "a857c9cc2353b389f0bcf5d0d47aa317986df737"
      },
      "cell_type": "code",
      "source": "",
      "execution_count": null,
      "outputs": []
    }
  ],
  "metadata": {
    "kernelspec": {
      "display_name": "Python 3",
      "language": "python",
      "name": "python3"
    },
    "language_info": {
      "name": "python",
      "version": "3.6.6",
      "mimetype": "text/x-python",
      "codemirror_mode": {
        "name": "ipython",
        "version": 3
      },
      "pygments_lexer": "ipython3",
      "nbconvert_exporter": "python",
      "file_extension": ".py"
    }
  },
  "nbformat": 4,
  "nbformat_minor": 1
}